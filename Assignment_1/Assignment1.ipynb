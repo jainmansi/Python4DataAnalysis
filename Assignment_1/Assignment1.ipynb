{
 "cells": [
  {
   "cell_type": "markdown",
   "metadata": {},
   "source": [
    "# Question 1"
   ]
  },
  {
   "cell_type": "code",
   "execution_count": 8,
   "metadata": {
    "collapsed": false
   },
   "outputs": [
    {
     "name": "stdout",
     "output_type": "stream",
     "text": [
      "[21, 42, 63, 84, 105, 126, 147, 168, 189, 210, 231, 252, 273, 294, 315, 336, 357, 378, 399, 420, 441, 462, 483]\n"
     ]
    }
   ],
   "source": [
    "R = []\n",
    "for num in range(1,500):\n",
    "    if num % 21 == 0:\n",
    "        R.append(num)\n",
    "print (R)"
   ]
  },
  {
   "cell_type": "code",
   "execution_count": 25,
   "metadata": {
    "collapsed": false
   },
   "outputs": [
    {
     "name": "stdout",
     "output_type": "stream",
     "text": [
      "Mean is: 252.0\n",
      "25th percentile is: 126\n",
      "50th percentile is: 252\n",
      "75th percentile is: 378\n"
     ]
    }
   ],
   "source": [
    "import math\n",
    "occur = len(R);\n",
    "sum = 0;\n",
    "for num in R:\n",
    "    sum += num;\n",
    "print(\"Mean is: {val}\".format(val = sum/occur));\n",
    "\n",
    "print(\"25th percentile is: {val}\".format(val = R[math.floor(occur/4)]))\n",
    "\n",
    "print(\"50th percentile is: {val}\".format(val = R[math.floor(occur/2)]))\n",
    "\n",
    "print(\"75th percentile is: {val}\".format(val = R[math.floor(3 * occur/4)]))"
   ]
  },
  {
   "cell_type": "markdown",
   "metadata": {},
   "source": [
    "# Question 2"
   ]
  },
  {
   "cell_type": "code",
   "execution_count": 128,
   "metadata": {
    "collapsed": false,
    "scrolled": true
   },
   "outputs": [
    {
     "name": "stdout",
     "output_type": "stream",
     "text": [
      "Total number of words are: 309\n",
      "Average length of words are: 5.585760517799352\n",
      "Median for word length is: 5\n",
      "Mode of word length is: 2\n"
     ]
    }
   ],
   "source": [
    "file = open('Lecture-03/ques2.txt', 'r')\n",
    "str1 = file.read()\n",
    "\n",
    "totalWords = len(str1.split())\n",
    "print(\"Total number of words are: {val}\".format(val = totalWords))\n",
    "\n",
    "words = str1.split();\n",
    "sum = 0\n",
    "\n",
    "for word in words:\n",
    "    if word.endswith(\".\"):\n",
    "        word = word.replace(\".\", \"\")\n",
    "    sum += len(word)\n",
    "    \n",
    "print(\"Average length of words are: {val}\".format(val = sum/totalWords))\n",
    "\n",
    "import math\n",
    "lsize = []\n",
    "for word in words:\n",
    "    if word.endswith(\".\"):\n",
    "        word = word.replace(\".\", \"\")\n",
    "    \n",
    "    lsize.append(len(word))\n",
    "    \n",
    "lsize.sort()\n",
    "#print(lsize)\n",
    "\n",
    "lenSize = len(lsize)\n",
    "#print(lenSize)\n",
    "print(\"Median for word length is: {val}\".format(val = lsize[math.floor(lenSize/2)]))\n",
    "\n",
    "occur = {}\n",
    "\n",
    "for item in lsize:\n",
    "    a = lsize.count(item)\n",
    "    occur[item] = a\n",
    "\n",
    "max = 0\n",
    "mode = 0\n",
    "for item in occur:\n",
    "    if occur[item] > max:\n",
    "        max = occur[item]\n",
    "        mode = item\n",
    "\n",
    "print(\"Mode of word length is: {val}\".format(val = mode))"
   ]
  },
  {
   "cell_type": "markdown",
   "metadata": {},
   "source": [
    "# Question 3"
   ]
  },
  {
   "cell_type": "code",
   "execution_count": 1,
   "metadata": {
    "collapsed": false
   },
   "outputs": [
    {
     "name": "stdout",
     "output_type": "stream",
     "text": [
      "Total number of files containing 'User Not Found' are 877\n",
      "Random 5 values for userIds are : [('B3ewYviF1BMuKQ2', 0), ('BSm041gD1BMkNP2', 0), ('Al4P3B6w1BMdtc5', 0), ('Ruc4feCd1BMoCp5', 0), ('WFIVJEud1B662x5', 1)]\n"
     ]
    }
   ],
   "source": [
    "import glob\n",
    "import json\n",
    "\n",
    "count = 0\n",
    "itemDict = {}\n",
    "str1 = \"\"\n",
    "userDict = {}\n",
    "for filename in glob.glob(r\"jsons\\*.json\"):\n",
    "    with open(filename, 'r') as f:\n",
    "        itemDict = json.load(f)\n",
    "        filename = filename.replace(\"jsons\\\\\", \"\")\n",
    "        userId = filename.replace(\".json\", \"\")\n",
    "        userDict[userId] = 1\n",
    "        for key in itemDict:\n",
    "            #print(key)\n",
    "            #if hasattr(itemDict[key], '__iter__') and not(isinstance(itemDict[key], str)):\n",
    "                #print(\"true\")\n",
    "                if itemDict[key] == \"User Not Found\":\n",
    "                    userDict[userId] = 0\n",
    "                    count +=1\n",
    "                \n",
    "            \n",
    "print(\"Total number of files containing 'User Not Found' are {val}\".format(val = count))\n",
    "#print(userDict)\n",
    "\n",
    "import random\n",
    "\n",
    "print(\"Random 5 values for userIds are : {val}\".format(val = random.sample(userDict.items(), 5)))\n"
   ]
  },
  {
   "cell_type": "markdown",
   "metadata": {},
   "source": [
    "# Question 4"
   ]
  },
  {
   "cell_type": "code",
   "execution_count": 2,
   "metadata": {
    "collapsed": false
   },
   "outputs": [
    {
     "name": "stdout",
     "output_type": "stream",
     "text": [
      "{'rcddMu2Y1BGiSo5': {'first': 0, 'third': 0}, 'zOv7t8T21BLJqo5': {'first': 47, 'third': 1}, 'r5X6ciY71BlHC32': {'first': 144, 'third': 162}, 'vksYxtk71BqBWj5': {'first': 281, 'third': 765}, 'ZQoOV2fx1BBgyJ5': {'first': 17, 'third': 385}, 'wbNrlBLw1ACJMx5': {'first': 65, 'third': 5}, 'QAafxXTl1BM9hD5': {'first': 5, 'third': 0}, 'Wg2QUY1s1BasoP5': {'first': 20, 'third': 163}, 'AYBhCCwF1zzi5m5': {'first': 231, 'third': 0}, 'ruE1v11v1BMHIh2': {'first': 4, 'third': 0}, 'zqbZpPLf1BMPOG5': {'first': 4, 'third': 0}, 'WQF1MwHu1ATDnk5': {'first': 317, 'third': 1408}, 'AGIKzXTx1BMMk75': {'first': 4, 'third': 4}, 'vLdmrHKE1BJvsw5': {'first': 8, 'third': 0}, 'rcnd53uk1AbZg15': {'first': 152, 'third': 1}, 'VLGY20Zs1BGvV45': {'first': 74, 'third': 1}, 'ZnrJ1QXr1AuC3x5': {'first': 2, 'third': 0}, 'zOInRjY61BzwE25': {'first': 195, 'third': 1}, 'q7Y681J51zK01u2': {'first': 212, 'third': 0}, 'w1tPRHpW1BehxZ5': {'first': 342, 'third': 3306}, 'wOnr5rke1BMGCv5': {'first': 1, 'third': 0}, 'WOjroE0w1BIUjY5': {'first': 21, 'third': 0}, 'BCaQ1o0L1BF6Vv2': {'first': 87, 'third': 28}, 'Wy4dICb81zTjZi2': {'first': 26, 'third': 0}, 'ga4nrcT71BMrLz5': {'first': 4, 'third': 0}, 'g80GJLlK1BKis35': {'first': 9, 'third': 0}, 'vqTjwdYb1BMy7s5': {'first': 5, 'third': 8}, 'RCtixFDc1BMMU02': {'first': 1, 'third': 0}, 'zRm9pJQR1Bgem15': {'first': 40, 'third': 73}, 'vwZGeczL1BqGIi5': {'first': 73, 'third': 89}, 'vIZvughTQ6aIGGO09Ux1FfsvIAwvFLen': {'first': 92, 'third': 0}, 'BlgoDTTL1BLp075': {'first': 4, 'third': 0}, 'VHyOyWcCTwVwZeJyXZH427pWsWKNWbsg': {'first': 163, 'third': 0}, 'G7rpQ4vY1BI6uM2': {'first': 2, 'third': 0}, 'rHLEe68s1ARcUj5': {'first': 1, 'third': 0}, 'AHijfs1f1BLo1i2': {'first': 8, 'third': 19}, 'AlpgeUoO6y2LshqJxIu5tvHKcisaiRxY': {'first': 44, 'third': 194}, 'Qq0WtvWw1B7qmC5': {'first': 390, 'third': 3896}, 'rhxmikOH1BmWKB5': {'first': 6, 'third': 0}, 'AMrlahXF1BdClC2': {'first': 63, 'third': 2184}, 'vxe4Aqve1BM9oT5': {'first': 2, 'third': 0}, 'ZncSuVAK1BMxW22': {'first': 1, 'third': 0}, 'rOiau9pJquU0YRpMYYR4ElY1ibePWz1p': {'first': 179, 'third': 898}, 'Bt8HN1TN1AZbUB5': {'first': 10, 'third': 16}, 'r4qhc4lZ1BLHR15': {'first': 1, 'third': 21}, 'wC5uP2Ht1BJOeq5': {'first': 14, 'third': 0}, 'zSIKqV4u1BEsgg5': {'first': 108, 'third': 175}, 'WRwZkEWX1AMb605': {'first': 123, 'third': 9}, 'WH3GDa5v1BK0iu5': {'first': 1, 'third': 0}, 'RKOYw5sY1ByIY22': {'first': 10, 'third': 33}, 'ARI5Y6ZM1BImA25': {'first': 12, 'third': 0}, 'WjAgUPNa1BJEhq2': {'first': 6, 'third': 0}, 'vkwwRtNf1zRhlQ5': {'first': 473, 'third': 0}, 'RchaJXZU1B0bPK5': {'first': 77, 'third': 885}, 'zqDY7ZLG1BLmC52': {'first': 7, 'third': 0}, 'QXXNnlDy1BKdw25': {'first': 5, 'third': 0}, 'ZuQO68HJ1BC5bh5': {'first': 10, 'third': 0}, 'WlpSX49U1BKbiB5': {'first': 28, 'third': 9}, 'wImEdd0O1BM6ye2': {'first': 1, 'third': 0}, 'g9nTxgPQ1BMwk92': {'first': 4, 'third': 0}, 'ACE6wrft1AqkzU5': {'first': 1, 'third': 1}, 'rNozYJSV1AYgIa5': {'first': 60, 'third': 185}, 'W1LzOgzH1BMNpp2': {'first': 4, 'third': 0}, 'RhE0MivB1Bsay25': {'first': 62, 'third': 613}, 'wd36an0f1B1YiW5': {'first': 377, 'third': 371}, 'VoXkSIU31AWwnb2': {'first': 226, 'third': 1521}, 'rGbkm76421xRPvwBWd1dbspgVUoOj8jK': {'first': 117, 'third': 0}, 'g9FbT5GAvfhYXIYrLDN8hGIJPeOvdRye': {'first': 1, 'third': 0}, 'W3lKJpRu1AdvrA5': {'first': 200, 'third': 1357}, 'RHXQIJOF1BuJi95': {'first': 20, 'third': 55}, 'qXAOQWaG1BMzsB5': {'first': 1, 'third': 0}, 'VgYBf4X11BMO2e2': {'first': 1, 'third': 0}, 'Bevic89q1BI78c5': {'first': 3, 'third': 8}, 'RuCV2Ml01BztxS5': {'first': 1, 'third': 0}, 'VSmsuQLi1zHoRH5': {'first': 5, 'third': 0}, 'Vq2C9u0u1BsbPF5': {'first': 116, 'third': 598}, 'W9GfOapB1BKu0w5': {'first': 6, 'third': 14}, 'AzSGyFPG1BMaSb5': {'first': 6, 'third': 0}, 'VVQ6gUGL1BM8Lm5': {'first': 4, 'third': 0}, 'VtkRv2V91BM9rd5': {'first': 1, 'third': 0}, 'W60qLLKS1AlFeR5': {'first': 110, 'third': 2419}, 'Wa8QvwxH1A8S625': {'first': 64, 'third': 321}, 'rrOPB4jR1BLZrB5': {'first': 11, 'third': 12}, 'RgL8LXyb1BuAUy5': {'first': 81, 'third': 145}, 'Aig7jcGk1BqoTb5': {'first': 166, 'third': 1631}, 'BekLXUjv1AZJCO5': {'first': 244, 'third': 0}, 'RtSjLEjv1BMoXq2': {'first': 4, 'third': 0}, 'VuujW5f61BlTna5': {'first': 205, 'third': 1043}, 'qUogFx1H1B4kac2': {'first': 132, 'third': 104}, 'W7i1uW5C1A4HUY5': {'first': 182, 'third': 3165}, 'rEU5SXr61ALxuB5': {'first': 241, 'third': 225}, 'r4hGmDUM1Burdg5': {'first': 238, 'third': 475}, 'WHx2cVDj1BtDPT5': {'first': 202, 'third': 625}, 'g3bmJ7hI1BMvIC2': {'first': 1, 'third': 0}, 'Qpu2EAfQ1BMm5J2': {'first': 4, 'third': 0}, 'Wxp6oLx41BJPGf5': {'first': 12, 'third': 0}, 'wDEvuCsE1BJ3Nv5': {'first': 10, 'third': 0}, 'rVanM4F31BMv2i5': {'first': 2, 'third': 0}, 'rvTjjoAm1AJTZx5': {'first': 47, 'third': 468}, 'wuoLWeMB1AfUU32': {'first': 3, 'third': 0}, 'rlAi8wN93hgezmuFnwKSvvbpJbBJH4CY': {'first': 166, 'third': 727}, 'AniGWaG71BFC205': {'first': 89, 'third': 86}, 'VSUBQqJf1BLDUq5': {'first': 9, 'third': 491}, 'AcE7drxWsXOMPTMvKGWXlKq9ssEDqX1M': {'first': 227, 'third': 20}, 'BIuv0zAE1BLRsg5': {'first': 5, 'third': 17}, 'wTu8gCreexE7dFFsoAK0dSCTSXDOBL0x': {'first': 169, 'third': 22}, 'WRoTINWe1BMN9Q5': {'first': 1, 'third': 0}, 'RFc6ANkN1BLN4R5': {'first': 27, 'third': 0}, 'wsRAmm5Q1AnPvH5': {'first': 62, 'third': 47}, 'R6KTK5QO1BMs7t2': {'first': 4, 'third': 0}, 'Q9QRGy391BtQIQ5': {'first': 29, 'third': 745}, 'rQ9QWdAT1BMwRx5': {'first': 3, 'third': 9}, 'R75QcDlk1BMIuC5': {'first': 8, 'third': 3}, 'Rv7YUw1o1BvnJk5': {'first': 138, 'third': 725}, 'WrT0B30t1BqF6r5': {'first': 146, 'third': 0}, 'R9N9QzFO1B9Hqi5': {'first': 194, 'third': 436}, 'rA0KtS0J1AMmTw5': {'first': 222, 'third': 597}, 'VxSB0MwO1BB4WY5': {'first': 267, 'third': 415}, 'WIiYrHvN1Afwcq5': {'first': 1, 'third': 0}, 'Aa8F01bG1zEVca5': {'first': 360, 'third': 1538}, 'whcuo8nr1zxiHb5': {'first': 266, 'third': 0}, 'BOaq3ZNo1AzLOR5': {'first': 272, 'third': 1181}, 'RAbXwtOJ1BIsR05': {'first': 3, 'third': 0}, 'wY9oOKXC1BwSVl5': {'first': 14, 'third': 89}, 'VNyyIVf41Bh3co5': {'first': 284, 'third': 1742}, 'ADMEUt2D1BMGwN2': {'first': 1, 'third': 0}, 'w8JsGfDn1BsN3H5': {'first': 242, 'third': 980}, 'AFFC2C591BlDCm5': {'first': 48, 'third': 386}, 'wAA7GQZL1BDxzh5': {'first': 53, 'third': 399}, 'B54jhdRr1BrnBO5': {'first': 67, 'third': 396}, 'B1fkWU4B1BnJpi5': {'first': 45, 'third': 0}, 'r8eR4nDu1BMOCx2': {'first': 2, 'third': 0}, 'BIpfcxZA1zQ35g5': {'first': 418, 'third': 0}, 'qaYSpRdq1BqDGF5': {'first': 26, 'third': 444}, 'QWbykDVS1BMaD92': {'first': 1, 'third': 0}, 'qrj7e1w01BovOU5': {'first': 117, 'third': 697}, 'B5jXbs5X1BMwhq5': {'first': 6, 'third': 0}, 'g8Ej8Y901BL4e45': {'first': 53, 'third': 0}, 'rtHMOVvr1Brs2u5': {'first': 0, 'third': 0}, 'RsRfgh3v1B92BJ5': {'first': 7, 'third': 0}, 'WB4RF8C21B8fCc5': {'first': 186, 'third': 896}, 'vWeMud5V1BMyma2': {'first': 1, 'third': 0}, 'g53MTe0i1BFwWn5': {'first': 0, 'third': 0}, 'AAOnpE891BhSM45': {'first': 178, 'third': 500}, 'QtkSTLCB1BIsFK5': {'first': 8, 'third': 16}, 'B6ohYGtm1ByFOI5': {'first': 146, 'third': 917}, 'QAr7G9t41BIRoS5': {'first': 54, 'third': 0}, 'g1DPeDI11BHOyi5': {'first': 9, 'third': 0}, 'Vx5uIXgV1BFWKp5': {'first': 11, 'third': 3}, 'rUgMObVC1BB8O35': {'first': 4, 'third': 0}, 'QqfwcL4Y1Bnvm05': {'first': 147, 'third': 749}, 'AsvbNPu71B75C65': {'first': 321, 'third': 0}, 'W5drVVBv1BMlj55': {'first': 10, 'third': 0}, 'VMbt31ld1BBW6C5': {'first': 2, 'third': 0}, 'WgO5xdqB1AlD9F5': {'first': 29, 'third': 97}, 'vWX6noiG1BMNep5': {'first': 2, 'third': 0}, 'BiStK9rA1zT5VS5': {'first': 394, 'third': 1955}, 'Qtu8zclN1znQkl5': {'first': 108, 'third': 1618}, 'vs7Q55Ab1BD9Go5': {'first': 6, 'third': 31}, 'ZSzfe3jX1B2aT65': {'first': 1, 'third': 0}, 'qZigPREc1BMNzi2': {'first': 1, 'third': 0}, 'wH0dlIPZ1BHO4P5': {'first': 15, 'third': 0}, 'APlqXoMg1AcwZy5': {'first': 29, 'third': 100}, 'vnxWp3r31Bx3rL5': {'first': 104, 'third': 113}, 'AnhmBX0Z1BMLcf5': {'first': 3, 'third': 0}, 'AnTIjUWG1BDNX85': {'first': 201, 'third': 27}, 'FyXumeBK1BKKMo5': {'first': 7, 'third': 2}, 'RkKb0PjT1zMWgW5': {'first': 96, 'third': 712}, 'vlpdSh6i1AOXUa5': {'first': 266, 'third': 1}, 'G1dhvwTI1B45yf5': {'first': 122, 'third': 1}, 'zMUq28w21AGgwe2': {'first': 12, 'third': 0}, 'wqeJNPQ61AwMSC5': {'first': 202, 'third': 440}, 'rhJcwbkO1Bo4ZD5': {'first': 70, 'third': 75}, 'VPGqpAaM1BFYyf5': {'first': 9, 'third': 3}, 'rnWS78W61Bz3Lj5': {'first': 64, 'third': 0}, 'BovGXCnr1Bti305': {'first': 107, 'third': 835}, 'wMLb9zFP1ASZR85': {'first': 213, 'third': 2048}, 'ZPbR4mg11BMIf25': {'first': 3, 'third': 0}, 'AAHWj5QN1BJ1ZP5': {'first': 2, 'third': 0}, 'QxNB4bGg1BH1Xz5': {'first': 8, 'third': 0}, 'zsn3Uw621AMTK95': {'first': 151, 'third': 385}, 'vkbVIIwp1BMKC22': {'first': 3, 'third': 1}, 'ZvYyHsS31BJMfI5': {'first': 10, 'third': 3}, 'Vrjd5vpq1Advbq5': {'first': 101, 'third': 335}, 'A2HkZPkn1BpvvG5': {'first': 15, 'third': 0}, 'RVRSFBBd1BnvBc5': {'first': 66, 'third': 988}, 'G0mjg96A1A4z1p5': {'first': 60, 'third': 0}, 'ZVk66FW11APmqN5': {'first': 447, 'third': 665}, 'RFAfKOJZ1A5o0D5': {'first': 367, 'third': 0}, 'BdygLYWF1AIUmH5': {'first': 295, 'third': 1336}, 'wWVrBJXs1BL6uj5': {'first': 3, 'third': 0}, 'znNaVJvD1ByXRA5': {'first': 102, 'third': 424}, 'AccoGpwU1BMvn42': {'first': 1, 'third': 0}, 'w95QhHrT1B2h695': {'first': 223, 'third': 1732}, 'rcJDu64e1BAcO22': {'first': 5, 'third': 0}, 'REi64X7d1AGFnF2': {'first': 190, 'third': 15}, 'WIs5P3Eg1AWVbn5': {'first': 170, 'third': 0}, 'qq9kS06r1B6lcp5': {'first': 235, 'third': 662}, 'Qae5k9IB1AiPtx5': {'first': 1, 'third': 4}, 'wRUHJZlg1BsVnT5': {'first': 47, 'third': 496}, 'ZnP8wAxh1BMMoQ2': {'first': 5, 'third': 0}, 'gAzm2a8S1BIxC05': {'first': 13, 'third': 0}, 'w77GpP1o1BJRKR5': {'first': 6, 'third': 1}, 'VUOAvH5I1BMkFH2': {'first': 1, 'third': 0}, 'BN5TKLdK1zsXgV5': {'first': 253, 'third': 2494}, 'AKQDTy341AYLky5': {'first': 5, 'third': 0}, 'RRhP7AZu1AW5Vn5': {'first': 192, 'third': 205}, 'vzWrKtkn1BrlWj5': {'first': 47, 'third': 221}, 'VLxuMKFn1BhKf05': {'first': 190, 'third': 263}, 'zRZbEMBH1BAQxr5': {'first': 173, 'third': 262}, 'Whyg5OJX1BIbQv5': {'first': 21, 'third': 0}, 'WCO10JB01BLlp35': {'first': 3, 'third': 3}, 'FwesrNXp1ABBQT5': {'first': 5, 'third': 0}, 'ABSy3tf91BzpGe5': {'first': 12, 'third': 26}, 'vYjpJILa1BMwNp5': {'first': 21, 'third': 0}, 'wo4ji8p11BE3l25': {'first': 25, 'third': 221}, 'VOIcWFmB1BKhmf5': {'first': 3, 'third': 0}, 'vyAAuMo81BH2sd5': {'first': 11, 'third': 0}, 'WpzmtuPo1BMkfk2': {'first': 4, 'third': 0}, 'R8nkA9GD1Borkr5': {'first': 19, 'third': 103}, 'AJHEkzfW1Adc5x5': {'first': 2, 'third': 0}, 'FxTuYsfm1BnEYC5': {'first': 0, 'third': 0}, 'RIncB32I1BMoqi5': {'first': 5, 'third': 0}, 'g3w9AsiW1BM7w32': {'first': 1, 'third': 0}, 'wdzXBKdc1BEwfl5': {'first': 94, 'third': 1050}, 'r2OH1qz91zWJgQ5': {'first': 309, 'third': 378}, 'BPmPI8001BMsIa5': {'first': 4, 'third': 0}, 'WIqbzX441BMGml2': {'first': 4, 'third': 0}, 'VPPA4CmX1BugZy5': {'first': 268, 'third': 1341}, 'wQI7l8os1BAOrU5': {'first': 139, 'third': 128}, 'vSzyn86Y1BH8yF5': {'first': 13, 'third': 16}, 'gbdplUAy1BMnmc2': {'first': 1, 'third': 0}, 'VH8e8hPS1BJ8A65': {'first': 16, 'third': 0}, 'viYLTDxE1B9AUu5': {'first': 81, 'third': 116}, 'VuGrlYM11BJy6Z5': {'first': 34, 'third': 0}, 'fzCWCwa81AhApU5': {'first': 0, 'third': 0}, 'ATPm3LpW1BepUd5': {'first': 467, 'third': 1686}, 'AY9GdOjk1ztGOt5': {'first': 1, 'third': 0}, 'ABwA5DAx1Az1g65': {'first': 188, 'third': 2474}, 'rsnKu4BH1BhGBD5': {'first': 36, 'third': 0}, 'WIfzZm0U1BHkwx5': {'first': 2, 'third': 0}, 'Wy10fDIa1ADsur5': {'first': 21, 'third': 0}, 'w7NDdFH01zvseu5': {'first': 102, 'third': 0}, 'vVWPb3qX1BhW3b5': {'first': 80, 'third': 491}, 'Zrrns0lJ1Bdo305': {'first': 227, 'third': 0}, 'R0hAO3n41BCIGv5': {'first': 4, 'third': 0}, 'VV9OvM4I1AsX142': {'first': 4, 'third': 0}, 'B6MHb4ZP1BDFEq5': {'first': 15, 'third': 0}, 'q06QaaY91BMmUf5': {'first': 3, 'third': 0}, 'AdjWlMHv1A8vM55': {'first': 125, 'third': 14}, 'rlCDZMai1ALhom5': {'first': 56, 'third': 369}, 'RCrCAOZv1B7JMI5': {'first': 270, 'third': 321}, 'ARGizL9S1B8ZD25': {'first': 103, 'third': 66}, 'qrQOHyoQ1zFyYL5': {'first': 154, 'third': 0}, 'wfwUF5Vd1BGFgr2': {'first': 6, 'third': 4}, 'QsamkhX91BHXR75': {'first': 11, 'third': 0}, 'vQ0m53Ax1BI45J5': {'first': 3, 'third': 0}, 'G1MIBSBH1ByC2u5': {'first': 14, 'third': 8}, 'vqNPYjndiO2K4NcidiUcuMIcTY2nTKZ8': {'first': 162, 'third': 51}, 'BiSyaEpH1BHs2P5': {'first': 11, 'third': 1}, 'WaY4jHJL1AAoQN5': {'first': 95, 'third': 0}, 'A3j6Sjuz1BMMV82': {'first': 1, 'third': 0}, 'rMXdZsXg1BERmv5': {'first': 206, 'third': 279}, 'qZfpYTat1BIKg85': {'first': 19, 'third': 0}, 'vzyuFUlL1BdiyH5': {'first': 282, 'third': 221}, 'rLi53H881BAlra5': {'first': 4, 'third': 5}, 'BA0Q9k0P1BGDyo2': {'first': 7, 'third': 2}, 'rn01nShC1BMtzG5': {'first': 7, 'third': 0}, 'RLFsETGD1AqMyr5': {'first': 2, 'third': 0}, 'rj7uNpUo1AYptb5': {'first': 185, 'third': 53}, 'run6Rgjd1BuoAv5': {'first': 80, 'third': 590}, 'RFm7ejJ61BoSl85': {'first': 313, 'third': 1033}, 'ABwpqKRf1Bz2UG5': {'first': 68, 'third': 0}, 'RTXwl3iw1BpZsY5': {'first': 117, 'third': 93}, 'Qrd4002a1BCbrm5': {'first': 30, 'third': 259}, 'WvfhW5CW1BKz8T5': {'first': 5, 'third': 0}, 'vsnTQP1D1ATjpF5': {'first': 56, 'third': 4}, 'BsEiZ9y61B4gjI5': {'first': 143, 'third': 2780}, 'BPXhjodA1BMq0f2': {'first': 1, 'third': 0}, 'wSjAjT5c1BxECT5': {'first': 100, 'third': 464}, 'g7ZYJoVZ1Biklu5': {'first': 140, 'third': 530}, 'AMzoHgJo1zzHp05': {'first': 240, 'third': 2692}, 'GbstW8if1B4xPO5': {'first': 179, 'third': 929}, 'R6JfH8ck1BJeZx2': {'first': 22, 'third': 4}, 'r3HyXat91APNOu5': {'first': 179, 'third': 94}, 'r11ejw1U1BKHr45': {'first': 8, 'third': 0}, 'g6rJPqKY1BDDhM5': {'first': 64, 'third': 33}, 'Gb51o7ol1BA8Jf5': {'first': 48, 'third': 7}, 'G0aXzHDS1BMzKr2': {'first': 4, 'third': 0}, 'R1IYuUzz1AR8Os5': {'first': 178, 'third': 2}, 'AnQ6ESQ61Aoc4F5': {'first': 223, 'third': 1231}, 'rrLnHyNs1BKZUy5': {'first': 7, 'third': 0}, 'rKeUzrwj1ByL3k5': {'first': 8, 'third': 0}, 'vVrtKgMX1BweMp5': {'first': 9, 'third': 0}, 'WpUidKQk1BKIT25': {'first': 8, 'third': 13}, 'RtIoKu2C1zPlPC5': {'first': 171, 'third': 404}, 'Wa8NlaxK1AGL8U5': {'first': 272, 'third': 1189}, 'reobCSyd1BFFrS5': {'first': 0, 'third': 0}, 'w3cgOQxl1BGX235': {'first': 6, 'third': 0}, 'RoQ441oX1Br3TE5': {'first': 45, 'third': 89}, 'RLbeoM011BCnDo5': {'first': 19, 'third': 151}, 'rRi5LVgw1BbC2j5': {'first': 0, 'third': 0}, 'Rn9dcjzH1AvoVa2': {'first': 55, 'third': 0}, 'qb5rCu9u1BMOZl2': {'first': 1, 'third': 0}, 'whGAIFTX1BtV3g2': {'first': 75, 'third': 67}, 'wdwFQreo1BxzoU5': {'first': 9, 'third': 14}, 'rQ0RjFZC1BGkTb5': {'first': 145, 'third': 239}, 'q5N116GQ1BMdbf2': {'first': 1, 'third': 0}, 'vjukd8Ep1ANQXJ5': {'first': 116, 'third': 42}, 'G4ygoHJR1BCZ5i2': {'first': 118, 'third': 335}, 'RukXNrFv1BLPIq2': {'first': 9, 'third': 35}, 'wr3T0KE61zvtuZ5': {'first': 202, 'third': 0}, 'WveDTDYo1B7fzq5': {'first': 65, 'third': 238}, 'ZpQjxq0d1BMbYu2': {'first': 4, 'third': 0}, 'qPB2M3Bj1ABQY25': {'first': 295, 'third': 7}, 'QZZl3uCS1By2wz5': {'first': 15, 'third': 15}, 'QW5fjLE21BH3B35': {'first': 7, 'third': 7}, 'QY3ONjDv1BiPYt5': {'first': 120, 'third': 1243}, 'AUqXVIJz1BhjHj5': {'first': 1, 'third': 0}, 'vTsqsqq41A0wIK5': {'first': 16, 'third': 0}, 'wd4FSvBJ1BBNUK5': {'first': 81, 'third': 1042}, 'VmU8tt491BM1UC2': {'first': 1, 'third': 0}, 'weVqUCw31BGWoq5': {'first': 0, 'third': 0}, 'RLHN1Vk91BbIQk5': {'first': 159, 'third': 1775}, 'VQZjOCNu1BtJTI5': {'first': 85, 'third': 367}, 'wLE7dqFR1BJyqj5': {'first': 16, 'third': 0}, 'wkYmL1Iy1BAmWx5': {'first': 226, 'third': 0}, 'ROD15LNO1zGDlD5': {'first': 141, 'third': 74}, 'Gcrvfihv1BMwXG2': {'first': 1, 'third': 0}, 'RSkEBmcm1BBigz5': {'first': 92, 'third': 320}, 'WiLPib4d1BHM4i5': {'first': 8, 'third': 2}, 'wBzl56oc1zrvEo5': {'first': 252, 'third': 0}, 'g6uTAWNA1ANb2d5': {'first': 5, 'third': 0}, 'AoMDTLDe1Bk5lD5': {'first': 317, 'third': 700}, 'Vztegpyo1AesYV5': {'first': 2, 'third': 7}, 'A3bVx1T11BLTx65': {'first': 5, 'third': 0}, 'vjljAxZ41BqE2f5': {'first': 246, 'third': 761}, 'FXYoNBlF1BMs162': {'first': 1, 'third': 0}, 'wDUfmZCt1BwtXl5': {'first': 23, 'third': 135}, 'Q354qrDS1Btal05': {'first': 244, 'third': 566}, 'RMo7Cxzi1Bgf8d5': {'first': 105, 'third': 114}, 'Q5EnGgDM1BhWjo5': {'first': 4, 'third': 3}, 'R6oQa2GG1BMMM95': {'first': 1, 'third': 0}, 'BT50R6Qw1BMqhl5': {'first': 4, 'third': 0}, 'rbdU0rGk1BqgNk5': {'first': 275, 'third': 3013}, 'wRVS3dyL1BM8US5': {'first': 5, 'third': 0}, 'w0BGAqao1BpALl5': {'first': 98, 'third': 57}, 'AjnCxTwv1BMutG2': {'first': 4, 'third': 0}, 'Vp8oy8lN1Bs9Ky5': {'first': 0, 'third': 0}, 'ZQcoKCmB1B5eii5': {'first': 369, 'third': 484}, 'REInZTyX1BMxe62': {'first': 1, 'third': 0}, 'rQfQle9t1BMoDh2': {'first': 4, 'third': 0}, 'Bb0vE5cP1BLNMa5': {'first': 3, 'third': 0}, 'BG7SjKA21BuLQG5': {'first': 3, 'third': 0}, 'WJwUWKFr1zOBp52': {'first': 113, 'third': 13}, 'wOl4wv2q1zsxAR5': {'first': 210, 'third': 0}, 'RjMCFkE11B3zIi5': {'first': 261, 'third': 0}, 'VXHWYz8a1AB7WM2': {'first': 112, 'third': 0}, 'VPSaAVrM1zYUyh5': {'first': 2, 'third': 0}, 'qPDSnDTM1BMP4J5': {'first': 1, 'third': 0}, 'BDVxEPRh1BLQUL5': {'first': 39, 'third': 32}, 'AGCpEWWb1BEx235': {'first': 4, 'third': 0}, 'r24op22O1BunLZ5': {'first': 217, 'third': 58}, 'BENy3u321Bu3jA5': {'first': 58, 'third': 1469}, 'R7Jr48Oy1BMxAO5': {'first': 35, 'third': 17}, 'A2Dsv7RE1BDqYt5': {'first': 121, 'third': 27}, 'G7ILtDa31BwXhx5': {'first': 71, 'third': 62}, 'BqPyokHE1Acifj5': {'first': 236, 'third': 1187}, 'wUBFp9ND1B2O7H5': {'first': 132, 'third': 330}, 'RgMORvt81AMI4r5': {'first': 3, 'third': 0}, 'AAD2VmOH1BMwW12': {'first': 1, 'third': 0}, 'vrZ9dXXP1BtO5w5': {'first': 198, 'third': 1135}, 'wj8rTOOl1BEyqI5': {'first': 12, 'third': 11}, 'wozRbewM1AI7pc5': {'first': 308, 'third': 1713}, 'qPntkVP71BMOPB5': {'first': 5, 'third': 1}, 'zUfMQSu71B38jo5': {'first': 319, 'third': 1093}, 'BGijYBDQ1AX6HB5': {'first': 9, 'third': 105}, 'RIRoYnVj1BMpBT5': {'first': 1, 'third': 0}, 'vxT6WyhM1BLtE95': {'first': 2, 'third': 0}, 'q8TVfU1W1BDHfh2': {'first': 46, 'third': 127}, 'RkLRclQqb7zWsPZXCEbrns4zumGJBBCJ': {'first': 17, 'third': 0}, 'g30TxF1W1A5zip5': {'first': 27, 'third': 205}, 'Bk4iIqky1Bl3SL2': {'first': 145, 'third': 172}, 'VMvFV5X41A1SLj5': {'first': 123, 'third': 0}, 'G6yvLRud1BJylQ2': {'first': 20, 'third': 2}, 'zR79p05c1BMObJ2': {'first': 3, 'third': 0}, 'wuRvVBCu1AOZkh5': {'first': 50, 'third': 478}, 'RC0bR5hm1BFfsh5': {'first': 11, 'third': 0}, 'WwmpHbh31BrHby5': {'first': 44, 'third': 792}, 'VtbhaDJP1BMqzC2': {'first': 1, 'third': 0}, 'wFjp1u1o1BHqYz5': {'first': 27, 'third': 0}, 'BF0LwNhC1BekAq2': {'first': 44, 'third': 0}, 'QWqI76vY1BCSPK5': {'first': 24, 'third': 229}, 'rnegUVaP1Be3NF5': {'first': 220, 'third': 0}, 'gAGOFJsL1BcBsU5': {'first': 46, 'third': 97}, 'AKeCOVxv1AR78w5': {'first': 301, 'third': 914}, 'ZMUX2W8V1BDDoB5': {'first': 15, 'third': 1}, 'W0F73CNI1BM8Gh2': {'first': 1, 'third': 0}, 'Wd1tsjPR1Bx8Nr5': {'first': 127, 'third': 491}, 'wjYP4axi1BM4qd5': {'first': 10, 'third': 55}, 'VT8pdysN1zvRqK5': {'first': 243, 'third': 35}, 'Be8W8wmK1AoryF5': {'first': 92, 'third': 0}, 'vk1WhQROOaoy4ZALy7opLpEZhWC1GxgS': {'first': 298, 'third': 14}, 'wIrXHBfp1BMjAd2': {'first': 1, 'third': 0}, 'rvFrQSud1Bairy5': {'first': 1, 'third': 0}, 'rbBHXXAu1BHqTl5': {'first': 0, 'third': 0}, 'VKnyAdDs1BgRL35': {'first': 392, 'third': 288}, 'rpoqhaolyyD7lTxShcyD7NMhFnK2nbDE': {'first': 290, 'third': 0}, 'zQqUOg6d1BMGwi2': {'first': 1, 'third': 0}, 'W28d25LL1BMOr72': {'first': 1, 'third': 0}, 'wghzLF0A1Bfarm5': {'first': 290, 'third': 733}, 'vVeRRq9Q1BwxQq5': {'first': 44, 'third': 64}, 'BoMsIYqa1BDho55': {'first': 11, 'third': 18}, 'WsuP1cFn1BJYGv5': {'first': 5, 'third': 1}, 'RF4aLnyy1Bq4qB5': {'first': 71, 'third': 457}, 'ztA3NtIV1B7kYc5': {'first': 1, 'third': 0}, 'w4jMcxUX1B9DiP5': {'first': 2, 'third': 1}, 'R0bRPwwc1Bj8SG5': {'first': 192, 'third': 0}, 'WonGkCh91BnqcG5': {'first': 236, 'third': 3225}, 'g54OZDxJ1AjU9A5': {'first': 93, 'third': 776}, 'Fxf1G7Es1BoYdG5': {'first': 395, 'third': 1310}, 'WbkqlfzJ1BDsW85': {'first': 19, 'third': 7}, 'VWKu5RKy1BzphM5': {'first': 119, 'third': 958}, 'rpmRdl6r1BqIhj5': {'first': 7, 'third': 125}, 'VRzQ2Owo1BByll5': {'first': 158, 'third': 1510}, 'Bpk3BPmD1BLmwF5': {'first': 6, 'third': 0}, 'QtahjAZT1BMLgW5': {'first': 4, 'third': 0}, 'AlGylYZ91B9UaK5': {'first': 3, 'third': 0}, 'R98b5Mzr1Bi1nb5': {'first': 336, 'third': 837}, 'wDFFVP1n1B8WQn5': {'first': 364, 'third': 2616}, 'QZL7nIpc1AN9w22': {'first': 264, 'third': 734}, 'vJHTYrfm1AOdVd2': {'first': 19, 'third': 121}, 'qrChX24k1BHqlv5': {'first': 28, 'third': 34}, 'A919aKwiqnBd0plwT3izfU0NhGRKnX6z': {'first': 1, 'third': 0}, 'AdLIMIYD1BuDiU2': {'first': 44, 'third': 159}, 'VjSnHLtrZLAhNPcRurj6ExcbVAFFT3un': {'first': 29, 'third': 0}, 'Waq4rojO1B6ME25': {'first': 0, 'third': 0}, 'A2VNCBDc1BI1q65': {'first': 6, 'third': 0}, 'whSyMF5Q1BMtRU5': {'first': 1, 'third': 0}, 'zNXXGHKF1AKoO65': {'first': 46, 'third': 0}, 'GCoEORZO1zWf3e5': {'first': 272, 'third': 3}, 'Qve9aYp91zzUnC5': {'first': 159, 'third': 0}, 'B7R1QfGl1AvPZw5': {'first': 194, 'third': 1224}, 'RsXwvljm1AhLad2': {'first': 171, 'third': 356}, 'RrpHRhiE1Bv2mL5': {'first': 35, 'third': 176}, 'w4ShkB2G1BMma45': {'first': 5, 'third': 6}, 'A5xOTqVS1Amd7F5': {'first': 339, 'third': 1574}, 'RehuTeXf1BKV2b5': {'first': 11, 'third': 0}, 'AQLqHEvX1BLnIp5': {'first': 7, 'third': 0}, 'W9k6BiC31ASY4T5': {'first': 206, 'third': 575}, 'QWqdZF2t1AthDN5': {'first': 0, 'third': 0}, 'vjxp4aHx1Astzo5': {'first': 199, 'third': 697}, 'A1Fxs5Ag1A8vuB5': {'first': 91, 'third': 1246}, 'Vw1nFgNH1BCHSx5': {'first': 122, 'third': 348}, 'FztYhncS1BMubM5': {'first': 4, 'third': 0}, 'vGQWymI81BDiCq5': {'first': 151, 'third': 313}, 'ruZhhuu61BjjZH5': {'first': 193, 'third': 0}, 'QRkstXPN1zG1fk5': {'first': 440, 'third': 2807}, 'WR2CYTVQ1BM2nn5': {'first': 26, 'third': 409}, 'RcTSaSAYAkEeGrLD8tj0JQ7SoRC4jsJN': {'first': 19, 'third': 0}, 'wQDXIFZS1BJTRU5': {'first': 39, 'third': 7}, 'RuCdPh3Q1BDcGL5': {'first': 0, 'third': 0}, 'QsAVgeiL1BDh2G5': {'first': 32, 'third': 23}, 'QuI5P7sG1BoBus5': {'first': 156, 'third': 790}, 'gcyyGodc1AO2J15': {'first': 322, 'third': 2191}, 'wIVBvcOM1AOKvM5': {'first': 251, 'third': 26}, 'w8oH2uDi1BMAXJ2': {'first': 4, 'third': 0}, 'FX5fmTRe1BnZec5': {'first': 220, 'third': 130}, 'ReKxr3i91AUv6d5': {'first': 1, 'third': 0}, 'r4LsJesz1BEe8w5': {'first': 0, 'third': 0}, 'wfY2P5rY1ByDXk5': {'first': 74, 'third': 685}, 'rhUZigaH1BKFi75': {'first': 4, 'third': 0}, 'GBe4DTe41BcyK15': {'first': 5, 'third': 10}, 'BMjPBNTk1AOWPF5': {'first': 380, 'third': 1091}, 'RB3emS9P1BM9Xg2': {'first': 14, 'third': 9}, 'W9ggYZtQ1BMqRD2': {'first': 1, 'third': 0}, 'Vx65yIWz1BHSx95': {'first': 3, 'third': 0}, 'zTOvpRaL1BM6na2': {'first': 1, 'third': 0}, 'rnIaTwvt1BLkQl5': {'first': 13, 'third': 20}, 'wTB9SJ4h1BEvUK5': {'first': 12, 'third': 0}, 'zPZbXMqN1zXgie5': {'first': 221, 'third': 174}, 'FwTVVs8j1AJO1U5': {'first': 262, 'third': 64}, 'RleTQ9pG1A88GT5': {'first': 2, 'third': 0}, 'zVqPkcZi1BMlvA5': {'first': 37, 'third': 0}, 'AuRamyuA1BMJkI2': {'first': 4, 'third': 0}, 'WMW6SIZe1BKLSo5': {'first': 5, 'third': 11}, 'WFIVJEud1B662x5': {'first': 180, 'third': 3}, 'rR8iX0HM1BEwXK2': {'first': 22, 'third': 53}, 'zqt0g3be1BMMAA5': {'first': 3, 'third': 0}, 'vwOCckem1Bx4Wa5': {'first': 56, 'third': 484}, 'wbPdTWzXQkN0ndTDG4EhXCPXzfr33W2a': {'first': 377, 'third': 54}, 'BKrmTGPK1BMn4W5': {'first': 59, 'third': 0}, 'VUbqbYjj1BMx675': {'first': 2, 'third': 1}, 'wacZlqNh1Bl5FW5': {'first': 111, 'third': 531}, 'RobjHrno1BFwTD2': {'first': 18, 'third': 46}, 'AxtScjEi1Btf3Y5': {'first': 2, 'third': 0}, 'BBR91eEw1BDCxE5': {'first': 18, 'third': 0}, 'g07DrnGU1BLE0X5': {'first': 2, 'third': 0}, 'Q4nwk3Gh1BKCS45': {'first': 4, 'third': 0}, 'ANuFI3wm1BM9C75': {'first': 3, 'third': 0}, 'vNGkqbXk1BMKjd2': {'first': 1, 'third': 0}, 'W6xg92mB1AvRLa5': {'first': 155, 'third': 238}, 'QyrNpJ3c1BIsbm5': {'first': 25, 'third': 8}, 'WIaQQcMu1BDlTh5': {'first': 0, 'third': 0}, 'wKBrd3Za1BJkDr2': {'first': 12, 'third': 22}, 'BbsEjJhY1A9y6x5': {'first': 102, 'third': 0}, 'WBF9qxjj1zMxmP5': {'first': 257, 'third': 0}, 'r1MezVIf1Bhxrt6': {'first': 184, 'third': 560}, 'zpxjpMNy1AuiYF2': {'first': 70, 'third': 23}, 'rUMLvvEj1BEy012': {'first': 9, 'third': 0}, 'AtGOWVZf1BLjrK2': {'first': 5, 'third': 0}, 'fWOrVAxL1BMLWy2': {'first': 4, 'third': 0}, 'g58fMEEi1BBMGY5': {'first': 7, 'third': 0}, 'BDCb90TA1BLgGH5': {'first': 88, 'third': 20}, 'qQfVQ5Hf1BJuks5': {'first': 20, 'third': 0}, 'VGPfVlzt1BIHmY2': {'first': 13, 'third': 0}, 'rbDl0jv21BFF9P5': {'first': 10, 'third': 0}, 'WWl2ALx51AmKnl5': {'first': 88, 'third': 120}, 'rekGI7C61AwVWu5': {'first': 76, 'third': 0}, 'wRzVn2RK1BuVe85': {'first': 77, 'third': 1159}, 'rGoHAdWO1ADNeS2': {'first': 189, 'third': 159}, 'R9cDiCOn1BLdgf5': {'first': 3, 'third': 0}, 'WYfi2sfz1A8F6a5': {'first': 1, 'third': 0}, 'ZQfaSO5n1BpdMa5': {'first': 32, 'third': 26}, 'wb7GFvQJ1B0hYM5': {'first': 3, 'third': 0}, 'qwRTQ9Lj1Bpk3e5': {'first': 274, 'third': 588}, 'WqdFTpNQ1AFYt65': {'first': 105, 'third': 751}, 'ZOibOH801AM1Ad5': {'first': 153, 'third': 117}, 'G0GCyqRk1Ba51g5': {'first': 192, 'third': 1806}, 'WQuLQDyn1BLrNE5': {'first': 0, 'third': 6}, 'AtRPmo9f1BJSDf5': {'first': 11, 'third': 0}, 'rwHZJrqP1BI9WP5': {'first': 16, 'third': 8}, 'RQkMZUZe1BI0UM2': {'first': 17, 'third': 0}, 'QuwOnkyK1AqLRV2': {'first': 5, 'third': 6}, 'FZua0Uxl1BMOYm2': {'first': 1, 'third': 0}, 'rG73nibf1B7xmG5': {'first': 61, 'third': 158}, 'qu4Z0gyTXlYkt08UeQuM8Oleh50eFf8l': {'first': 3, 'third': 0}, 'VYo5NcHa1AfU705': {'first': 30, 'third': 0}, 'R7FJCkge1ANWJf5': {'first': 161, 'third': 2}, 'rfjK1sh51AKAIe5': {'first': 109, 'third': 166}, 'G03xcobX1BjAxe5': {'first': 3, 'third': 1}, 'VZDt2qcc1BFmBl5': {'first': 0, 'third': 0}, 'QS9Jnyre1Bzq2z2': {'first': 21, 'third': 573}, 'wtxAI8301BJFCm5': {'first': 5, 'third': 3}, 'zvvJoBOU1BMxOp5': {'first': 3, 'third': 0}, 'Q8YghwIE1BH49S5': {'first': 4, 'third': 56}, 'QwHk9b6V1AEqMH5': {'first': 102, 'third': 0}, 'rUcoRMHx1Ak9SX5': {'first': 171, 'third': 0}, 'RmtpGQeX1zsWF15': {'first': 170, 'third': 1874}, 'wojrdqup1AZVyC5': {'first': 1, 'third': 5}, 'rMUhNuX11AeS7d5': {'first': 121, 'third': 0}, 'wUIZUK8R1BMDBs2': {'first': 1, 'third': 0}, 'Qu1x0BYC1AHPoe5': {'first': 152, 'third': 0}, 'qunhQRw41BMqRD2': {'first': 1, 'third': 0}, 'zMTquV0G1A3zO95': {'first': 420, 'third': 1481}, 'WdJonOel1AFpUv5': {'first': 6, 'third': 0}, 'ZuWjcESU1BoR9S5': {'first': 0, 'third': 1}, 'REon76Ro1Bk6t55': {'first': 8, 'third': 0}, 'wvon4kVo1AqRn15': {'first': 145, 'third': 0}, 'ZSkS0bmT1Bz6x15': {'first': 4, 'third': 947}, 'BdKcsiu41BxtBr5': {'first': 74, 'third': 324}, 'G2l0GlBb1Bwpxf5': {'first': 190, 'third': 977}, 'QP655HOF1B4tPp5': {'first': 323, 'third': 1794}, 'VmTJWZu51BkPlR5': {'first': 193, 'third': 1655}, 'rP7XoEXx1BLs865': {'first': 1, 'third': 23}, 'gcqe285I1BwxeK5': {'first': 73, 'third': 798}, 'ZUzm137k1BEKiG5': {'first': 0, 'third': 0}, 'WPNfMlAs1BMu8S5': {'first': 4, 'third': 0}, 'r8MYOFW11zEzdd5': {'first': 165, 'third': 5}, 'RhomxVAg1BKCXM5': {'first': 4, 'third': 0}, 'AJmn0gHp1BDJ242': {'first': 35, 'third': 0}, 'rHbhzx1oJMJMR7gd0J1hBxaMonADiig1': {'first': 10, 'third': 0}, 'RhcAKh6i1BGUGA5': {'first': 22, 'third': 12}, 'RgeMZ2Qb1BkRzq5': {'first': 155, 'third': 16}, 'BQYVihQz1BFwt25': {'first': 18, 'third': 0}, 'VIEaQ5Ey1BiHhl5': {'first': 294, 'third': 0}, 'rcAqwEm51AQwSN5': {'first': 180, 'third': 378}, 'ZuCGqtX51BMmqF5': {'first': 10, 'third': 1}, 'qQbfcvFi1B2krk5': {'first': 305, 'third': 2609}, 'vIaWDxe21BHeX45': {'first': 1, 'third': 0}, 'w0ER8rln1BwRng5': {'first': 5, 'third': 12}, 'wBKcC9HI1Apdos2': {'first': 5, 'third': 0}, 'w9LFyUcR1BgSo35': {'first': 3, 'third': 0}, 'qakOLREM1BLXoM5': {'first': 1, 'third': 0}, 'BtHxPRga1zV8Ci5': {'first': 206, 'third': 2139}, 'Zv9ImYb81AUS6O5': {'first': 294, 'third': 505}, 'WaDLKoZE1AikRv5': {'first': 303, 'third': 1608}, 'WFgvm0ph1ATGxm5': {'first': 211, 'third': 987}, 'FZRY65XU1A405M5': {'first': 415, 'third': 773}, 'VZ0udpKf1BLEqG5': {'first': 2, 'third': 0}, 'RFWrTlYu1zXk9c5': {'first': 25, 'third': 594}, 'wieTWpLx1BGiWu5': {'first': 8, 'third': 0}, 'VnN6zg6r1zLlRS5': {'first': 373, 'third': 948}, 'qxDZeVmG1BJQPj5': {'first': 38, 'third': 0}, 'vLZKER2W1BGfzD5': {'first': 144, 'third': 563}, 'g9nxwxLF1BF5WL2': {'first': 46, 'third': 48}, 'ZvCOSJMp1BtQEp5': {'first': 83, 'third': 6}, 'ALis2oIu1BMo275': {'first': 1, 'third': 0}, 'Q72ts3B41Bcuag5': {'first': 83, 'third': 2347}, 'ZUUy97hQ1Bwtlc5': {'first': 1, 'third': 1}, 'RKRK1Pte1BwXnT5': {'first': 13, 'third': 237}, 'B9JmSTEk1BI70R5': {'first': 10, 'third': 0}, 'G1HUFiGX1BkPEc5': {'first': 14, 'third': 15}, 'BmsYFBKO1BdaO55': {'first': 34, 'third': 873}, 'zsX3Qg1s1BMx512': {'first': 4, 'third': 0}, 'wpQwNEu71BDsFt5': {'first': 5, 'third': 7}, 'FvxnmIZU1AWxGP5': {'first': 1, 'third': 0}, 'whwERCRP1BH0GW5': {'first': 0, 'third': 0}, 'r15pEZTi1BMsyT5': {'first': 3, 'third': 1}, 'A9UPpfah1BFECb5': {'first': 88, 'third': 337}, 'Zp1j3ZGn1AVxHA5': {'first': 215, 'third': 27}, 'AR0hkF421BFyc25': {'first': 1, 'third': 0}, 'g7cdiFT01BMybI2': {'first': 2, 'third': 0}, 'FvIMrHQk1BnrqL5': {'first': 168, 'third': 1052}, 'rqIAinu01BDpqe5': {'first': 12, 'third': 41}, 'GCkFM4uj1BpNS65': {'first': 251, 'third': 2613}, 'RIm45HSY1BFgQA5': {'first': 60, 'third': 1}, 'ALxJlgbJ1BhwXC5': {'first': 2, 'third': 3}, 'Gc90Oc0x1zQO9M5': {'first': 67, 'third': 38}, 'B0jSr8hO1BqCAc5': {'first': 4, 'third': 19}, 'wpgBplTJ1BMORX2': {'first': 3, 'third': 0}, 'WgbmO06X1BLNmL5': {'first': 6, 'third': 0}, 'znqz1JY51BMmy05': {'first': 10, 'third': 164}}\n"
     ]
    }
   ],
   "source": [
    "userSeg = {}\n",
    "\n",
    "segment = \"\"\n",
    "for filename in glob.glob(r\"jsons\\*.json\"):\n",
    "    with open(filename, 'r') as f:\n",
    "        itemDict = json.load(f)\n",
    "        filename = filename.replace(\"jsons\\\\\", \"\")\n",
    "        userId = filename.replace(\".json\", \"\")\n",
    "        segVal ={}\n",
    "        first = 0\n",
    "        third = 0\n",
    "        segVal['first'] = first\n",
    "        segVal['third'] = third\n",
    "        for key in itemDict:\n",
    "            if key == \"retargetingSegments\":\n",
    "                for item in itemDict[key]:\n",
    "                    segment = item[\"segmentUid\"]\n",
    "                    segment = segment.split()[0][0]\n",
    "                    #print(segment)\n",
    "                    \n",
    "                    if segment == \"0\":\n",
    "                        #print(\"here\")\n",
    "                        segVal['first'] += 1\n",
    "                    elif segment == \"1\":\n",
    "                        segVal['third'] += 1\n",
    "                \n",
    "                #print(segVal['first'])\n",
    "                #print(userId)\n",
    "                userSeg[userId] = segVal\n",
    "print(userSeg)\n",
    "                "
   ]
  }
 ],
 "metadata": {
  "kernelspec": {
   "display_name": "Python [Root]",
   "language": "python",
   "name": "Python [Root]"
  },
  "language_info": {
   "codemirror_mode": {
    "name": "ipython",
    "version": 3
   },
   "file_extension": ".py",
   "mimetype": "text/x-python",
   "name": "python",
   "nbconvert_exporter": "python",
   "pygments_lexer": "ipython3",
   "version": "3.5.2"
  }
 },
 "nbformat": 4,
 "nbformat_minor": 0
}
